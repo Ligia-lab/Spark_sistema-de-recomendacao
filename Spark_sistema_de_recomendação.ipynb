{
  "nbformat": 4,
  "nbformat_minor": 0,
  "metadata": {
    "colab": {
      "provenance": [],
      "generative_ai_disabled": true
    },
    "kernelspec": {
      "name": "python3",
      "display_name": "Python 3"
    },
    "language_info": {
      "name": "python"
    }
  },
  "cells": [
    {
      "cell_type": "markdown",
      "source": [
        "#Biblioteca de Dados\n",
        "\n",
        "\n",
        "https://developer.spotify.com/documentation/web-api/reference/get-several-audio-features"
      ],
      "metadata": {
        "id": "F_iXJlu6Bw_u"
      }
    },
    {
      "cell_type": "markdown",
      "source": [
        "\n",
        "\n",
        "\n",
        "* `Acousticness/Acústica:` Variável numérica, medida de confiança de 0,0 a 1,0 se a faixa é acústica. 1.0 representa alta confiança de que a faixa é acústica.\n",
        "\n",
        "* `Danceability/Dançabilidade:` Variável numérica, a dançabilidade descreve o quão adequada uma faixa é para dançar com base em uma combinação de elementos musicais, incluindo tempo, estabilidade do ritmo, força da batida e regularidade geral. Um valor de 0,0 é o menos dançável e 1,0 é o mais dançável.\n",
        "\n",
        "* `Duration_ms:`Variável numérica, a duração da trilha em milissegundos.\n",
        "\n",
        "* `Duration_min:` Variável numérica, a duração da faixa em minutos.\n",
        "\n",
        "* `Energy/Energia:` Variável numérica, Energia é uma medida de 0,0 a 1,0 e representa uma medida perceptiva de intensidade e atividade. Normalmente, as faixas energéticas parecem rápidas, altas e barulhentas. Por exemplo, o death metal tem alta energia, enquanto um prelúdio de Bach tem uma pontuação baixa na escala. As características perceptivas que contribuem para este atributo incluem faixa dinâmica, intensidade percebida, timbre, taxa de início e entropia geral.\n",
        "\n",
        "* `Explicit/Explícito:` Variável categórica, se a faixa tem ou não letras explícitas (verdadeiro = sim (1); falso = não(0), não OU desconhecido).\n",
        "\n",
        "* `Id:` O ID do Spotify para a faixa.\n",
        "\n",
        "* `Instrumentalness/Instrumentalidade:` Variável numérica, prevê se uma faixa não contém vocais. Os sons “Ooh” e “aah” são tratados como instrumentais neste contexto. Faixas de rap ou de palavras faladas são claramente “vocais”. Quanto mais próximo o valor de instrumentalidade estiver de 1,0, maior a probabilidade de a faixa não conter conteúdo vocal. Valores acima de 0,5 destinam-se a representar faixas instrumentais, mas a confiança é maior à medida que o valor se aproxima de 1,0.\n",
        "\n",
        "* `Key/Chave:`Variável numérica, a chave geral estimada da faixa. Os inteiros são mapeados para pitchs usando a notação padrão de Pitch Class. Por exemplo. 0 = C, 1 = C#/Db, 2 = D, e assim por diante. Se nenhuma chave foi detectada, o valor é -1.\n",
        "\n",
        "* `Liveness/ Ao vivo:` Variável numérica, detecta a presença de um público na gravação. Valores mais altos de vivacidade representam uma probabilidade maior de que a faixa tenha sido executada ao vivo. Um valor acima de 0,8 fornece uma forte probabilidade de que a faixa esteja ativa.\n",
        "\n",
        "* `Loudness/ Volume em dB:` Variável numérica, volume geral de uma faixa em decibéis (dB). Os valores de volume são calculados em média em toda a faixa e são úteis para comparar o volume relativo das faixas. A sonoridade é a qualidade de um som que é o principal correlato psicológico da força física (amplitude). Os valores típicos variam entre -60 e 0 db.\n",
        "\n",
        "* `Mode/ Modo:` Variável numérica, o modo indica a modalidade (maior ou menor) de uma faixa, o tipo de escala da qual seu conteúdo melódico é derivado. Maior é representado por 1 e menor é 0.\n",
        "\n",
        "* `Popularity/Popularidade:` Variável numérica, a popularidade de uma faixa é um valor entre 0 e 100, sendo 100 o mais popular. A popularidade é calculada por algoritmo e é baseada, em grande parte, no número total de execuções que a faixa teve e quão recentes são essas execuções.\n",
        "\n",
        "* `Speechiness/Fala:` Variável numérica, a fala detecta a presença de palavras faladas em uma faixa. Quanto mais exclusivamente falada a gravação (por exemplo, talk show, audiolivro, poesia), mais próximo de 1,0 o valor do atributo. Valores acima de 0,66 descrevem faixas que provavelmente são feitas inteiramente de palavras faladas. Valores entre 0,33 e 0,66 descrevem faixas que podem conter música e fala, seja em seções ou em camadas, incluindo casos como música rap. Os valores abaixo de 0,33 provavelmente representam músicas e outras faixas que não são de fala.\n",
        "\n",
        "* `Tempo:` Variável numérica, Tempo estimado geral de uma faixa em batidas por minuto (BPM). Na terminologia musical, tempo é a velocidade ou ritmo de uma determinada peça e deriva diretamente da duração média da batida.\n",
        "\n",
        "* `Valence/Valência:` Variável numérica, Medida de 0,0 a 1,0 descrevendo a positividade musical transmitida por uma faixa. Faixas com alta valência soam mais positivas (por exemplo, feliz, alegre, eufórica), enquanto faixas com baixa valência soam mais negativas (por exemplo, triste, deprimida, irritada).\n",
        "\n",
        "* `Year/Ano:` Ano em que a música foi lançada."
      ],
      "metadata": {
        "id": "0D-LDO1yCrrq"
      }
    },
    {
      "cell_type": "markdown",
      "source": [
        "#Instalando o PySpark\n"
      ],
      "metadata": {
        "id": "XMg0-OvOA8br"
      }
    },
    {
      "cell_type": "code",
      "execution_count": null,
      "metadata": {
        "id": "uE0Aq1V__Oqi"
      },
      "outputs": [],
      "source": [
        "!pip install pyspark"
      ]
    },
    {
      "cell_type": "code",
      "source": [
        "#criando a SparkSession\n",
        "\n",
        "from pyspark.sql import SparkSession\n",
        "\n",
        "sessao_spark = SparkSession\\\n",
        "                    .builder\\\n",
        "                    .appName('Recomendador PySpark')\\\n",
        "                    .getOrCreate()\n",
        "\n",
        "sessao_spark"
      ],
      "metadata": {
        "id": "WrD3PsSNBo5U"
      },
      "execution_count": null,
      "outputs": []
    },
    {
      "cell_type": "markdown",
      "source": [
        "#Leitura dos dados"
      ],
      "metadata": {
        "id": "wGCED9E3Zmi3"
      }
    },
    {
      "cell_type": "code",
      "source": [
        "from pyspark import SparkFiles"
      ],
      "metadata": {
        "id": "6XYiAPZ4CDn5"
      },
      "execution_count": null,
      "outputs": []
    },
    {
      "cell_type": "code",
      "source": [
        "url_dados = 'dados_musicas.csv'"
      ],
      "metadata": {
        "id": "L7HwxdUSZtul"
      },
      "execution_count": null,
      "outputs": []
    },
    {
      "cell_type": "code",
      "source": [
        "#adiciona a url à sessao spark e depois pega caminho no contexto spark e concatena com o nome do arquivo\n",
        "\n",
        "sessao_spark.sparkContext.addFile(url_dados)\n",
        "path_dados_file = 'file://' + SparkFiles.get('dados_musicas.csv')\n",
        "\n",
        "#le o csv, mantendo o header e deixando o schema automático\n",
        "dados = sessao_spark.read.csv(path_dados_file, header=True, sep=';', inferSchema=True)\n",
        "\n",
        "dados.show()"
      ],
      "metadata": {
        "id": "nFSyReJJZ8Nk"
      },
      "execution_count": null,
      "outputs": []
    },
    {
      "cell_type": "code",
      "source": [
        "#mostra o schema dos dados\n",
        "dados.printSchema()"
      ],
      "metadata": {
        "id": "scOBzRaKbg4X"
      },
      "execution_count": null,
      "outputs": []
    },
    {
      "cell_type": "code",
      "source": [
        "#conta as linhas\n",
        "dados.count()"
      ],
      "metadata": {
        "id": "-UUMjI7abrYm"
      },
      "execution_count": null,
      "outputs": []
    },
    {
      "cell_type": "code",
      "source": [
        "#conta as colunas\n",
        "len(dados.columns)"
      ],
      "metadata": {
        "id": "4cJug0pEb5JN"
      },
      "execution_count": null,
      "outputs": []
    },
    {
      "cell_type": "code",
      "source": [
        "import pyspark.sql.functions as f"
      ],
      "metadata": {
        "id": "L_-0rL6Ob_UL"
      },
      "execution_count": null,
      "outputs": []
    },
    {
      "cell_type": "code",
      "source": [
        "#para cada c em colunas, conte, quando, é nulo(c), se a condição for verdadeira retorne 1 para contar o total de valores nulos\n",
        "\n",
        "dados.select([f.count(f.when(f.isnull(c), 1)).alias(c) for c in dados.columns]).show()"
      ],
      "metadata": {
        "id": "YdCBxq-bcPTv"
      },
      "execution_count": null,
      "outputs": []
    },
    {
      "cell_type": "code",
      "source": [
        "#oredena a coluna years\n",
        "print(sorted(dados.select('year').distinct().collect()))"
      ],
      "metadata": {
        "id": "CsKi1z_qeth-"
      },
      "execution_count": null,
      "outputs": []
    },
    {
      "cell_type": "markdown",
      "source": [
        "#Segunda fonte de dados"
      ],
      "metadata": {
        "id": "unap1GPngcqf"
      }
    },
    {
      "cell_type": "code",
      "source": [
        "#carrega csv de anos\n",
        "url_anos_dados = 'dados_musicas_ano.csv'\n",
        "\n",
        "#add à sessão spark, mantendo o header e prevendo o schema\n",
        "sessao_spark.sparkContext.addFile(url_anos_dados)\n",
        "path_dados_file = 'file://' + SparkFiles.get('dados_musicas_ano.csv')\n",
        "dados_anos = sessao_spark.read.csv(path_dados_file, header=True, inferSchema=True)\n",
        "dados_anos.show(100)\n"
      ],
      "metadata": {
        "id": "BAHg87R5fYYm"
      },
      "execution_count": null,
      "outputs": []
    },
    {
      "cell_type": "code",
      "source": [
        "#dados sobre anos filtrados em maior que 2000\n",
        "dados_anos = dados_anos.filter('year >= 2000')\n",
        "dados_anos.show(100)"
      ],
      "metadata": {
        "id": "U7BQT6mNg_bs"
      },
      "execution_count": null,
      "outputs": []
    },
    {
      "cell_type": "code",
      "source": [
        "#quantidade de linhas\n",
        "dados_anos.count()"
      ],
      "metadata": {
        "id": "QJM_xxnChPOb"
      },
      "execution_count": null,
      "outputs": []
    },
    {
      "cell_type": "code",
      "source": [
        "#quantidade de colunas\n",
        "len(dados_anos.columns)"
      ],
      "metadata": {
        "id": "XigiP5TUhWFT"
      },
      "execution_count": null,
      "outputs": []
    },
    {
      "cell_type": "code",
      "source": [
        "import plotly.express as px"
      ],
      "metadata": {
        "id": "EfURdDjNhclH"
      },
      "execution_count": null,
      "outputs": []
    },
    {
      "cell_type": "code",
      "source": [
        "#plot do gráfico mostrando a variação de loudness vs anos\n",
        "fig = px.line(dados_anos.toPandas(), x='year', y='loudness', markers=True, title='Variação do loudness conforme os anos')\n",
        "fig.show()"
      ],
      "metadata": {
        "id": "c7-Gkd1ghzbN"
      },
      "execution_count": null,
      "outputs": []
    },
    {
      "cell_type": "code",
      "source": [
        "import plotly.graph_objects as go"
      ],
      "metadata": {
        "id": "pqgivx1MiHIf"
      },
      "execution_count": null,
      "outputs": []
    },
    {
      "cell_type": "code",
      "source": [
        "#converte um dataframe spark em dataframe pandas\n",
        "#cria uma figura vazia para criar um grafico acousticness vs year\n",
        "temp = dados_anos.toPandas()\n",
        "fig = go.Figure()\n",
        "fig.add_trace(go.Scatter(x=temp['year'], y=temp['acousticness'], name='Acousticness'))\n",
        "fig.show()"
      ],
      "metadata": {
        "id": "J_EV1-fRifSF"
      },
      "execution_count": null,
      "outputs": []
    },
    {
      "cell_type": "code",
      "source": [
        "#transforma o dataframe em pandas e cria um gráfico interativo para várias métricas musicais\n",
        "\n",
        "import plotly.graph_objects as go\n",
        "\n",
        "temp = dados_anos.toPandas()\n",
        "\n",
        "fig = go.Figure()\n",
        "fig.add_trace(go.Scatter(x=temp['year'], y=temp['acousticness'], name='Acousticness'))\n",
        "fig.add_trace(go.Scatter(x=temp['year'], y=temp['valence'], name='Valence'))\n",
        "fig.add_trace(go.Scatter(x=temp['year'], y=temp['danceability'], name='Danceability'))\n",
        "fig.add_trace(go.Scatter(x=temp['year'], y=temp['energy'], name='Energy'))\n",
        "fig.add_trace(go.Scatter(x=temp['year'], y=temp['instrumentalness'], name='Instrumentalness'))\n",
        "fig.add_trace(go.Scatter(x=temp['year'], y=temp['liveness'], name='Liveness'))\n",
        "fig.add_trace(go.Scatter(x=temp['year'], y=temp['speechiness'], name='Speechiness'))\n",
        "\n",
        "fig.show()\n"
      ],
      "metadata": {
        "id": "MgP5SjlMjA4W"
      },
      "execution_count": null,
      "outputs": []
    },
    {
      "cell_type": "markdown",
      "source": [
        "#Matriz de correlação"
      ],
      "metadata": {
        "id": "D1b7TSWTkTv5"
      }
    },
    {
      "cell_type": "code",
      "source": [
        "#transforma em pandas e cria um heatmap interativo do plotly\n",
        "fig = px.imshow(dados_anos.drop('mode').toPandas().corr(), text_auto=True)\n",
        "fig.show()\n"
      ],
      "metadata": {
        "id": "WQz7o10fjaBc"
      },
      "execution_count": null,
      "outputs": []
    },
    {
      "cell_type": "markdown",
      "source": [
        "#Clusterização por gênero"
      ],
      "metadata": {
        "id": "1V6KeLTuosyd"
      }
    },
    {
      "cell_type": "markdown",
      "source": [
        "**PCA e StandardScaler**"
      ],
      "metadata": {
        "id": "_Kc3d124ozkH"
      }
    },
    {
      "cell_type": "code",
      "source": [
        "#carrega csv de genero\n",
        "url_dados_generos = 'dados_musicas_genero.csv'\n",
        "\n",
        "#add o csv à sessão spark mantendo o header e prevendo o schema\n",
        "sessao_spark.sparkContext.addFile(url_dados_generos)\n",
        "path_dados_file = 'file://' + SparkFiles.get('dados_musicas_genero.csv')\n",
        "dados_generos = sessao_spark.read.csv(path_dados_file, header=True, inferSchema=True)\n",
        "dados_generos.show()"
      ],
      "metadata": {
        "id": "JLMBVu0akksj"
      },
      "execution_count": null,
      "outputs": []
    },
    {
      "cell_type": "code",
      "source": [
        "#quantidade de linhas\n",
        "dados_generos.count()"
      ],
      "metadata": {
        "id": "xVyy3vb1pf5c"
      },
      "execution_count": null,
      "outputs": []
    },
    {
      "cell_type": "code",
      "source": [
        "#quantidade de linhas distintas\n",
        "dados_generos.select('genres').distinct().count()"
      ],
      "metadata": {
        "id": "nfqkdwYqpqEC"
      },
      "execution_count": null,
      "outputs": []
    },
    {
      "cell_type": "code",
      "source": [
        "#quantidade de colunas\n",
        "len(dados_generos.columns)"
      ],
      "metadata": {
        "id": "92dHNkyvp6Gk"
      },
      "execution_count": null,
      "outputs": []
    },
    {
      "cell_type": "code",
      "source": [
        "from pyspark.ml.feature import VectorAssembler"
      ],
      "metadata": {
        "id": "Lw_B223XqBaK"
      },
      "execution_count": null,
      "outputs": []
    },
    {
      "cell_type": "code",
      "source": [
        "#mostra todas as colunas\n",
        "dados_generos.columns"
      ],
      "metadata": {
        "id": "j5dh2PxEqdji"
      },
      "execution_count": null,
      "outputs": []
    },
    {
      "cell_type": "code",
      "source": [
        "#exclui o genero\n",
        "x = dados_generos.columns\n",
        "x.remove('genres')\n",
        "x"
      ],
      "metadata": {
        "id": "c8CFeBeLqneL"
      },
      "execution_count": null,
      "outputs": []
    },
    {
      "cell_type": "code",
      "source": [
        "#transforma todas as colunas numéricas em vetor, criando uma única coluna de features\n",
        "dados_generos_vector = VectorAssembler(inputCols=x, outputCol='features').transform(dados_generos).select(['features', 'genres'])\n",
        "dados_generos_vector.show(truncate=False, n=5)"
      ],
      "metadata": {
        "id": "yMMjjfotqsEN"
      },
      "execution_count": null,
      "outputs": []
    },
    {
      "cell_type": "code",
      "source": [
        "from pyspark.ml.feature import StandardScaler"
      ],
      "metadata": {
        "id": "q-9vQgEyrH8W"
      },
      "execution_count": null,
      "outputs": []
    },
    {
      "cell_type": "code",
      "source": [
        "#faz a normalização das features para que tenham a mesma escala antes de treinar o modelo\n",
        "scaler = StandardScaler(inputCol='features', outputCol='scaled_features')\n",
        "scaler_model = scaler.fit(dados_generos_vector)\n",
        "dados_generos_scaler = scaler_model.transform(dados_generos_vector)\n",
        "dados_generos_scaler.show()"
      ],
      "metadata": {
        "id": "KARA5gSrriUR"
      },
      "execution_count": null,
      "outputs": []
    },
    {
      "cell_type": "code",
      "source": [
        "from pyspark.ml.feature import PCA"
      ],
      "metadata": {
        "id": "mO70kGhkr_Oi"
      },
      "execution_count": null,
      "outputs": []
    },
    {
      "cell_type": "code",
      "source": [
        "#PCA = Análise de Componentes Principais\n",
        "#reduz a dimensionalidade das features, reduz as variáveis para 2 componentes principais\n",
        "pca = PCA(k=2, inputCol='scaled_features', outputCol='pca_features')\n",
        "model_pca = pca.fit(dados_generos_scaler)\n",
        "dados_generos_pca = model_pca.transform(dados_generos_scaler)\n",
        "dados_generos_pca.select('pca_features').show(truncate=False)"
      ],
      "metadata": {
        "id": "f9o4ItYmslU-"
      },
      "execution_count": null,
      "outputs": []
    },
    {
      "cell_type": "code",
      "source": [
        "from pyspark.ml import Pipeline"
      ],
      "metadata": {
        "id": "-dpwZnmTtJK2"
      },
      "execution_count": null,
      "outputs": []
    },
    {
      "cell_type": "code",
      "source": [
        "#Aplica o pipeline treinado sobre dados_generos\n",
        "#evita ter que executar cada etapa manualmente\n",
        "pca_pipeline = Pipeline(stages=[VectorAssembler(inputCols=x, outputCol='features'),\n",
        "                                StandardScaler(inputCol='features', outputCol='scaled_features'),\n",
        "                                PCA(k=2, inputCol='scaled_features', outputCol='pca_features')])\n",
        "pca_pipeline_model = pca_pipeline.fit(dados_generos)\n",
        "dados_generos_pca = pca_pipeline_model.transform(dados_generos)\n",
        "dados_generos_pca.show()\n"
      ],
      "metadata": {
        "id": "Upk8WH4EtlXa"
      },
      "execution_count": null,
      "outputs": []
    },
    {
      "cell_type": "markdown",
      "source": [
        "#K-means"
      ],
      "metadata": {
        "id": "lN9y0kDjje0b"
      }
    },
    {
      "cell_type": "code",
      "source": [
        "from pyspark.ml.clustering import KMeans"
      ],
      "metadata": {
        "id": "2Lfagek3z76e"
      },
      "execution_count": null,
      "outputs": []
    },
    {
      "cell_type": "code",
      "source": [
        "#aplica o algoritmo KMeans nos dados reduzidos pelo PCA, dividindo em 5 clusters\n",
        "#a nova coluna 'cluster_pca mostra a qual grupo cada linha pertence.\n",
        "kmeans = KMeans(featuresCol='pca_features', predictionCol='cluster_pca').setK(5).setSeed(1224)\n",
        "model_kmeans = kmeans.fit(dados_generos_pca)\n",
        "predictions_kmeans = model_kmeans.transform(dados_generos_pca)\n",
        "predictions_kmeans.select('pca_features', 'cluster_pca').show(truncate=False)"
      ],
      "metadata": {
        "id": "5xkZhOFHj5Fj"
      },
      "execution_count": null,
      "outputs": []
    },
    {
      "cell_type": "markdown",
      "source": [
        "**Plotando o cluster**"
      ],
      "metadata": {
        "id": "EwxOzgw1mjgo"
      }
    },
    {
      "cell_type": "code",
      "source": [
        "from pyspark.ml.functions import vector_to_array"
      ],
      "metadata": {
        "id": "H27dLItZk2ra"
      },
      "execution_count": null,
      "outputs": []
    },
    {
      "cell_type": "code",
      "source": [
        "#converte o vetor pca_features em duas colunas separadas, adiciona o cluster atribuído e o gênero original para facilitar a visualização\n",
        "pca_features_xy = predictions_kmeans.withColumn('x', vector_to_array('pca_features')[0])\\\n",
        "                                    .withColumn('y', vector_to_array('pca_features')[1])\\\n",
        "                                    .select(['x', 'y', 'cluster_pca', 'genres'])\n",
        "pca_features_xy.show()"
      ],
      "metadata": {
        "id": "ijtulPeZms6l"
      },
      "execution_count": null,
      "outputs": []
    },
    {
      "cell_type": "code",
      "source": [
        "#cria um scatter plot colorindo por cluster atribuído pelo KMeans\n",
        "fig = px.scatter(pca_features_xy.toPandas(), x='x', y='y', color='cluster_pca', hover_data=['x', 'y', 'genres'])\n",
        "fig.show()"
      ],
      "metadata": {
        "id": "m1EUhIOKnW8B"
      },
      "execution_count": null,
      "outputs": []
    },
    {
      "cell_type": "code",
      "source": [
        "#mostra a variância ecplicada pelo PCA indicando quanto da informação original foi preservada\n",
        "pca_pipeline_model.stages[2].explainedVariance"
      ],
      "metadata": {
        "id": "Aj8qKiT0nzZf"
      },
      "execution_count": null,
      "outputs": []
    },
    {
      "cell_type": "code",
      "source": [
        "# Na definição da função vamos incluir os parâmetros que gostariamos de variar, como quantidade componentes, número de clusters e colunas utilizadas\n",
        "def cria_pipeline(k_PCA=2, SEED=1224, k_kmeans=5, columns=x, data=dados_generos):\n",
        "\n",
        "\n",
        "  # Definição do Pipeline\n",
        "  # Primeiro a vetorização das colunas selecionadas\n",
        "  # Segundo a padronização dos dados com o StandardScaler\n",
        "  # Terceiro o PCA com o número k_PCA de componentes\n",
        "  # Quarto o KMeans com o número k_kmeans de clusters\n",
        "  pca_pipeline = Pipeline(stages=[VectorAssembler(inputCols = columns, outputCol = 'features'),\\\n",
        "                                StandardScaler(inputCol='features', outputCol='scaled_features'),\\\n",
        "                                PCA(k=k_PCA, inputCol=\"scaled_features\", outputCol='pca_features'),\\\n",
        "                                KMeans(featuresCol='pca_features', predictionCol='cluster_pca', seed=SEED, k=k_kmeans)])\n",
        "\n",
        "  # ajuste da pipeline com os dados\n",
        "  model = pca_pipeline.fit(data)\n",
        "\n",
        "  # transformação dos dados utilizando o modelo da pipeline\n",
        "  predictions_kmeans = model.transform(data)\n",
        "\n",
        "  # criando duas novas colunas a partir das primeiras duas componentes do PCA\n",
        "  pca_features_xs = predictions_kmeans.withColumn(\"x\", vector_to_array(\"pca_features\")[0])\\\n",
        "                   .withColumn(\"y\", vector_to_array(\"pca_features\")[1])\\\n",
        "                   .select(['x', 'y', 'cluster_pca', 'genres'])\n",
        "\n",
        "  # plotando as duas componentes e o cluster\n",
        "  fig = px.scatter(\n",
        "   pca_features_xs.toPandas(), x='x', y='y', color='cluster_pca', hover_data=['x', 'y', 'genres'])\n",
        "  fig.show()\n",
        "\n",
        "  # retornando pipeline ajustado\n",
        "  return model"
      ],
      "metadata": {
        "id": "4nKfVQsMoOPd"
      },
      "execution_count": null,
      "outputs": []
    },
    {
      "cell_type": "markdown",
      "source": [
        "#Clusterização por Música"
      ],
      "metadata": {
        "id": "2aA_UCqLo-WL"
      }
    },
    {
      "cell_type": "markdown",
      "source": [
        "**Redução de dimensionalidade com PCA**"
      ],
      "metadata": {
        "id": "vUU429NdpCmn"
      }
    },
    {
      "cell_type": "code",
      "source": [
        "dados.show()"
      ],
      "metadata": {
        "id": "Ecixm1eXowAw"
      },
      "execution_count": null,
      "outputs": []
    },
    {
      "cell_type": "code",
      "source": [
        "#remoção das colunas não numéricas\n",
        "x = dados.columns\n",
        "x.remove('artists')\n",
        "x.remove('id')\n",
        "x.remove('name')\n",
        "x.remove('artists_song')\n",
        "x"
      ],
      "metadata": {
        "id": "zLI7OTPJpH1L"
      },
      "execution_count": null,
      "outputs": []
    },
    {
      "cell_type": "code",
      "source": [
        "#vetoriza as colunas numéricas na coluna features, preparando para modelos de ML\n",
        "dados_encoded_vector = VectorAssembler(inputCols=x, outputCol='features').transform(dados)\n",
        "dados_encoded_vector.select('features').show(truncate=False, n=5)"
      ],
      "metadata": {
        "id": "Dp5Li_U0pdyX"
      },
      "execution_count": null,
      "outputs": []
    },
    {
      "cell_type": "code",
      "source": [
        "#normalização dos vetores para que todos fiquem na mesma escala\n",
        "scaler = StandardScaler(inputCol='features', outputCol='features_scaled')\n",
        "model_scaler = scaler.fit(dados_encoded_vector)\n",
        "dados_musicas_scaler = model_scaler.transform(dados_encoded_vector)\n",
        "dados_musicas_scaler.select('features_scaled').show(truncate=False, n=5)"
      ],
      "metadata": {
        "id": "iGrb5NAwpxmv"
      },
      "execution_count": null,
      "outputs": []
    },
    {
      "cell_type": "code",
      "source": [
        "#quantidade de colunas de x\n",
        "k = len(x)\n",
        "k"
      ],
      "metadata": {
        "id": "lFGeKjQEqTbl"
      },
      "execution_count": null,
      "outputs": []
    },
    {
      "cell_type": "code",
      "source": [
        "#aplica a PCA para diminuir a dimensionalidade das features ja normalizadas com K componentes principais\n",
        "pca = PCA(k=k, inputCol='features_scaled', outputCol='pca_features')\n",
        "model_pca = pca.fit(dados_musicas_scaler)\n",
        "dados_musica_pca = model_pca.transform(dados_musicas_scaler)\n",
        "sum(model_pca.explainedVariance) * 100"
      ],
      "metadata": {
        "id": "oQrepBoVqp8E"
      },
      "execution_count": null,
      "outputs": []
    },
    {
      "cell_type": "code",
      "source": [
        "#cria uma lista com a variância acumulada explicada até cada componente principal\n",
        "lista_valores = [sum(model_pca.explainedVariance[0:i+1]) for i in range(k)]\n",
        "lista_valores"
      ],
      "metadata": {
        "id": "gjng9ZvwrHVm"
      },
      "execution_count": null,
      "outputs": []
    },
    {
      "cell_type": "code",
      "source": [
        "import numpy as np"
      ],
      "metadata": {
        "id": "JFfJTVorreZ9"
      },
      "execution_count": null,
      "outputs": []
    },
    {
      "cell_type": "code",
      "source": [
        "\n",
        "#define k como o número de componentes principais necessários para explicar pelo menos 70% da variância dos dados\n",
        "k = sum(np.array(lista_valores) <= 0.7)\n",
        "k"
      ],
      "metadata": {
        "id": "C1vD-T1Dri8l"
      },
      "execution_count": null,
      "outputs": []
    },
    {
      "cell_type": "code",
      "source": [
        "#aplica o PCA usando o número ótimo de componentes (k) reduzindo as 'features_scaled' para 'pca_features' e preservando pelo menos 70% da variância dos dados\n",
        "pca = PCA(k=k, inputCol='features_scaled', outputCol='pca_features')\n",
        "model_pca = pca.fit(dados_musicas_scaler)\n",
        "dados_musicas_pca_final = model_pca.transform(dados_musicas_scaler)\n",
        "dados_musicas_pca_final.select('pca_features').show(truncate=False)"
      ],
      "metadata": {
        "id": "QpXqK8U2rm0v"
      },
      "execution_count": null,
      "outputs": []
    },
    {
      "cell_type": "code",
      "source": [
        "#mostra a porcentagem da variância total explicada pelos k componentes principais escolhidos\n",
        "sum(model_pca.explainedVariance) * 100"
      ],
      "metadata": {
        "id": "UoG3nSBEr6lV"
      },
      "execution_count": null,
      "outputs": []
    },
    {
      "cell_type": "markdown",
      "source": [
        "**Aplicação do cluster com K-means**"
      ],
      "metadata": {
        "id": "KrFgrEy4sgrk"
      }
    },
    {
      "cell_type": "code",
      "source": [
        "#cria um pipeline com VectorAssembler, StandardScaler e PCA (k=15), gera a projeção dos dados em 15 componentes principais e exibe os primeiros resultados\n",
        "pca_pipeline = Pipeline(stages=[VectorAssembler(inputCols=x, outputCol='features'),\n",
        "                        StandardScaler(inputCol='features', outputCol='featured_scaled'),\n",
        "                        PCA(k=15, inputCol='featured_scaled', outputCol='pca_features')])\n",
        "model_pca_pipeline = pca_pipeline.fit(dados)\n",
        "projection = model_pca_pipeline.transform(dados)\n",
        "projection.select('pca_features').show(truncate=False, n=5)"
      ],
      "metadata": {
        "id": "41xRkS-BsIex"
      },
      "execution_count": null,
      "outputs": []
    },
    {
      "cell_type": "code",
      "source": [
        "#aplica KMeans com k=50 usando os 'pca_features' como entrada. A coluna 'cluster_pca' indica o número do cluster atribuído a cada ponto\n",
        "kmeans = KMeans(k=50, featuresCol='pca_features', predictionCol='cluster_pca', seed=1224)\n",
        "modelo_kmeans = kmeans.fit(projection)\n",
        "projection_kmeans = modelo_kmeans.transform(projection)\n",
        "projection_kmeans.select('pca_features', 'cluster_pca').show()"
      ],
      "metadata": {
        "id": "kkp4dWput3FG"
      },
      "execution_count": null,
      "outputs": []
    },
    {
      "cell_type": "code",
      "source": [
        "#extrai os dois primeiros componentes principais (x e y) de 'pca_features', junto com o cluster atribuído e o nome da música\n",
        "projection_kmeans = projection_kmeans.withColumn('x', vector_to_array('pca_features')[0])\\\n",
        "                                      .withColumn('y', vector_to_array('pca_features')[1])\n",
        "projection_kmeans.select(['x', 'y', 'cluster_pca', 'Artists_song']).show()"
      ],
      "metadata": {
        "id": "8K8yqQQrukDp"
      },
      "execution_count": null,
      "outputs": []
    },
    {
      "cell_type": "markdown",
      "source": [
        "**Analisando o cluster**"
      ],
      "metadata": {
        "id": "jFxeUPJqvx_B"
      }
    },
    {
      "cell_type": "code",
      "source": [
        "#cria um scatter usando os dois primeiros componentes principais (x e y), colorindo os pontos conforme o cluster e mostrando o nome da música no hover.\n",
        "fig = px.scatter(projection_kmeans.toPandas(), x='x', y='y', color='cluster_pca', hover_data=['artists_song'])\n",
        "fig.show()"
      ],
      "metadata": {
        "id": "7OyVY9muvLwA"
      },
      "execution_count": null,
      "outputs": []
    },
    {
      "cell_type": "code",
      "source": [
        "nome_musica = 'Avenged Sevenfold - Nightmare'\n"
      ],
      "metadata": {
        "id": "RRgEmDrgxUys"
      },
      "execution_count": null,
      "outputs": []
    },
    {
      "cell_type": "code",
      "source": [
        "#filtra a música pelo nome e mostra o número do cluster em  ela foi colocada\n",
        "cluster = projection_kmeans.filter(projection_kmeans.artists_song == nome_musica).select('cluster_pca').collect()[0][0]\n",
        "cluster\n"
      ],
      "metadata": {
        "id": "luYjeNXIyXfP"
      },
      "execution_count": null,
      "outputs": []
    },
    {
      "cell_type": "code",
      "source": [
        "#seleciona todas as músicas que pertencem ao mesmo cluster da música escolhida, retornando o nome do artista/música, o id e suas features em PCA.\n",
        "musicas_recomendadas = projection_kmeans.filter(projection_kmeans.cluster_pca == cluster).select('artists_song', 'id', 'pca_features')\n",
        "musicas_recomendadas.show()"
      ],
      "metadata": {
        "id": "E-9rC4QZykQ9"
      },
      "execution_count": null,
      "outputs": []
    },
    {
      "cell_type": "code",
      "source": [
        "#obtém o vetor da pca_features da música escolhida, que representa sua posição no espaço reduzido do PCA.\n",
        "componentes_musica = musicas_recomendadas.filter(musicas_recomendadas.artists_song == nome_musica).select('pca_features').collect()[0][0]\n",
        "componentes_musica"
      ],
      "metadata": {
        "id": "PDGcIZCYzGAA"
      },
      "execution_count": null,
      "outputs": []
    },
    {
      "cell_type": "code",
      "source": [
        "from scipy.spatial.distance import euclidean\n",
        "from pyspark.sql.types import FloatType"
      ],
      "metadata": {
        "id": "B8BbOn3dzcTx"
      },
      "execution_count": null,
      "outputs": []
    },
    {
      "cell_type": "code",
      "source": [
        "#cria uma UDF para calcular a distância euclidiana entre a música escolhida e as músicas do mesmo cluster, ordena pela menor distância e retorna as 10 músicas mais próximas\n",
        "def calcula_distance(value):\n",
        "  return euclidean(componentes_musica, value)\n",
        "\n",
        "\n",
        "udf_calcula_distance = f.udf(calcula_distance, FloatType())\n",
        "\n",
        "musicas_recomendadas_dist = musicas_recomendadas.withColumn('Dist', udf_calcula_distance('pca_features'))\n",
        "\n",
        "recomendadas = sessao_spark.createDataFrame(musicas_recomendadas_dist.sort('Dist').take(10)).select(['artists_song', 'id', 'Dist'])\n",
        "\n",
        "recomendadas.show()"
      ],
      "metadata": {
        "id": "xdnSKPrSVMnK"
      },
      "execution_count": null,
      "outputs": []
    },
    {
      "cell_type": "code",
      "source": [
        "# Dado o nome de uma música:\n",
        "# 1) Descobre o cluster dela (KMeans em PCA).\n",
        "# 2) Seleciona todas as músicas do mesmo cluster.\n",
        "# 3) Calcula a distância euclidiana no espaço PCA até a música escolhida.\n",
        "# 4) Ordena por distância e mostra as 10 mais parecidas (recomendação)\n",
        "\n",
        "\n",
        "\n",
        "from os import truncate\n",
        "def recomendador(nome_musica):\n",
        "  cluster = projection_kmeans.filter(projection_kmeans.artists_song == nome_musica).select('cluster_pca').collect()[0][0]\n",
        "  musicas_recomendadas = projection_kmeans.filter(projection_kmeans.cluster_pca == cluster).select('artists_song', 'id', 'pca_features')\n",
        "  componentes_musica = musicas_recomendadas.filter(musicas_recomendadas.artists_song == nome_musica).select('pca_features').collect()[0][0]\n",
        "\n",
        "  def calcula_distance(value):\n",
        "    return euclidean(componentes_musica, value)\n",
        "\n",
        "\n",
        "  udf_calcula_distance = f.udf(calcula_distance, FloatType())\n",
        "\n",
        "  musicas_recomendadas_dist = musicas_recomendadas.withColumn('Dist', udf_calcula_distance('pca_features'))\n",
        "\n",
        "  recomendadas = sessao_spark.createDataFrame(musicas_recomendadas_dist.sort('Dist').take(10)).select(['artists_song', 'id', 'Dist'])\n",
        "\n",
        "  recomendadas.select('artists_song').show(truncate=False)"
      ],
      "metadata": {
        "id": "XCQphJyFWFRB"
      },
      "execution_count": null,
      "outputs": []
    },
    {
      "cell_type": "code",
      "source": [
        "recomendador('Avenged Sevenfold - Nightmare')"
      ],
      "metadata": {
        "id": "48zdTuk0XfTh"
      },
      "execution_count": null,
      "outputs": []
    },
    {
      "cell_type": "code",
      "source": [
        "#retorna True se encontrou a música no dataframe, e False se não encontrou\n",
        "def encontra_musica(nome_musica, predictions_kmeans):\n",
        "  resultado = predictions_kmeans.filter(predictions_kmeans.artists_song == nome_musica).collect()\n",
        "  if len(resultado) == 0:\n",
        "    return False\n",
        "  return True"
      ],
      "metadata": {
        "id": "HtghYRn9Xmu5"
      },
      "execution_count": null,
      "outputs": []
    },
    {
      "cell_type": "markdown",
      "source": [
        "#Biblioteca Spotipy"
      ],
      "metadata": {
        "id": "nR2IvklCbJDh"
      }
    },
    {
      "cell_type": "code",
      "source": [
        "!pip install spotipy"
      ],
      "metadata": {
        "id": "8yYsovqgX48G"
      },
      "execution_count": null,
      "outputs": []
    },
    {
      "cell_type": "code",
      "source": [
        "import spotipy\n",
        "from spotipy.oauth2 import SpotifyOAuth\n",
        "from spotipy.oauth2 import SpotifyClientCredentials",
        "from google.colab import userdata"
      ],
      "metadata": {
        "id": "JQpw5z7pbTPR"
      },
      "execution_count": null,
      "outputs": []
    },
    {
      "cell_type": "code",
      "source": [
        "#autenticação da biblioteca do spotipy\n",
        "scope = 'user-library-read playlist-modify-private'\n",
        "\n",
        "OAuth = SpotifyOAuth(\n",
        "    scope=scope,\n",
        "    redirect_uri='http://127.0.0.1:8888/callback',\n",
        "    client_id='1a74a1bbfdea476f9ee370ee252fd01a',\n",
        "    client_secret=userdata.get('secret_spotify')\n",
        ")"
      ],
      "metadata": {
        "id": "VhrV6y9EbsTC"
      },
      "execution_count": null,
      "outputs": []
    },
    {
      "cell_type": "code",
      "source": [
        "#credenciais para usar o spotipy\n",
        "client_credentials_manager = SpotifyClientCredentials(client_id='1a74a1bbfdea476f9ee370ee252fd01a',\n",
        "                                                      client_secret=userdata.get('secret_spotify'))\n",
        "\n",
        "sp = spotipy.Spotify(client_credentials_manager = client_credentials_manager)"
      ],
      "metadata": {
        "id": "ZyAIX6zdcWoC"
      },
      "execution_count": null,
      "outputs": []
    },
    {
      "cell_type": "code",
      "source": [
        "#recupera o ID da música escolhida a partir do nome\n",
        "id = projection_kmeans.filter(projection_kmeans.artists_song == nome_musica).select('id').collect()[0][0]\n",
        "id"
      ],
      "metadata": {
        "id": "ykl8OamVc3By"
      },
      "execution_count": null,
      "outputs": []
    },
    {
      "cell_type": "code",
      "source": [
        "sp.track(id)"
      ],
      "metadata": {
        "id": "a5jsFI9Ycx4B"
      },
      "execution_count": null,
      "outputs": []
    },
    {
      "cell_type": "code",
      "source": [
        "#calcula músicas recomendadas, Descobre o cluster da música-alvo, Seleciona todas as músicas do mesmo cluster, Pega os componentes PCA da música-alvo\n",
        "def recomendador(nome_musica):\n",
        "\n",
        "  cluster = projection_kmeans.filter(projection_kmeans.artists_song == nome_musica).select('cluster_pca').collect()[0][0]\n",
        "  musicas_recomendadas = projection_kmeans.filter(projection_kmeans.cluster_pca == cluster).select('artists_song', 'id', 'pca_features')\n",
        "  componentes_musica = musicas_recomendadas.filter(musicas_recomendadas.artists_song == nome_musica).select('pca_features').collect()[0][0]\n",
        "\n",
        "  #Função para calcular distância euclidiana entre músicas\n",
        "  def calcula_distance(value):\n",
        "    return euclidean(componentes_musica, value)\n",
        "\n",
        "\n",
        "  udf_calcula_distance = f.udf(calcula_distance, FloatType())\n",
        "\n",
        "  musicas_recomendadas_dist = musicas_recomendadas.withColumn('Dist', udf_calcula_distance('pca_features'))\n",
        "\n",
        "  recomendadas = sessao_spark.createDataFrame(musicas_recomendadas_dist.sort('Dist').take(10)).select(['artists_song', 'id', 'Dist'])\n",
        "\n",
        "  recomendadas.select('artists_song').show(truncate=False)\n",
        "\n",
        "\n",
        "  #pegar informações da api\n",
        "  playlist_id = recomendadas.select('id').collect()\n",
        "  playlist_track = []\n",
        "\n",
        "  for id in playlist_id:\n",
        "    playlist_track.append(sp.track(id[0]))\n",
        "\n",
        "  return len(playlist_track)\n"
      ],
      "metadata": {
        "id": "BobBAPeAdGWu"
      },
      "execution_count": null,
      "outputs": []
    },
    {
      "cell_type": "code",
      "source": [
        "recomendador('Avenged Sevenfold - Nightmare')"
      ],
      "metadata": {
        "id": "y_drnef8eFqB"
      },
      "execution_count": null,
      "outputs": []
    },
    {
      "cell_type": "markdown",
      "source": [
        "#Imagem do álbum"
      ],
      "metadata": {
        "id": "ErpEYb2FfCEi"
      }
    },
    {
      "cell_type": "code",
      "source": [
        "import matplotlib.pyplot as plt\n",
        "from skimage import io"
      ],
      "metadata": {
        "id": "51bWIYxTfBuJ"
      },
      "execution_count": null,
      "outputs": []
    },
    {
      "cell_type": "code",
      "source": [
        "#Consulta na API os detalhes da música, pega a URL da imagem, plota a capa do álbum\n",
        "\n",
        "nome_musica = 'Avenged Sevenfold - Nightmare'\n",
        "\n",
        "id = projection_kmeans.filter(projection_kmeans.artists_song == nome_musica)\\\n",
        "                 .select('id').collect()[0][0]\n",
        "track = sp.track(id)\n",
        "url = track[\"album\"][\"images\"][1][\"url\"]\n",
        "name = track[\"name\"]\n",
        "\n",
        "image = io.imread(url)\n",
        "plt.imshow(image)\n",
        "plt.xlabel(name, fontsize = 10)\n",
        "plt.show()"
      ],
      "metadata": {
        "id": "F9TzMYAVfUi6"
      },
      "execution_count": null,
      "outputs": []
    },
    {
      "cell_type": "code",
      "source": [
        "def visualize_songs(name, url):\n",
        "    plt.figure(figsize=(15, 10))\n",
        "    columns = 5\n",
        "    for i, u in enumerate(url):\n",
        "        ax = plt.subplot(len(url) // columns + 1, columns, i + 1)\n",
        "        image = io.imread(u)\n",
        "        ax.imshow(image)\n",
        "\n",
        "        # Remove eixos, ticks e bordas\n",
        "        ax.axis('off')\n",
        "        ax.set_xticks([])\n",
        "        ax.set_yticks([])\n",
        "        ax.set_frame_on(False)\n",
        "\n",
        "        # Nome da música embaixo da imagem\n",
        "        ax.text(\n",
        "            0.5, -0.05, name[i],\n",
        "            fontsize=9, ha='center', va='top', wrap=True,\n",
        "            transform=ax.transAxes\n",
        "        )\n",
        "\n",
        "    # Cola as capas com mínimo espaço, mas deixa espaço pro nome\n",
        "    plt.tight_layout(pad=0)\n",
        "    plt.subplots_adjust(wspace=0, hspace=0)\n",
        "    plt.show()\n"
      ],
      "metadata": {
        "id": "L3iSrGloe5YZ"
      },
      "execution_count": null,
      "outputs": []
    },
    {
      "cell_type": "code",
      "source": [
        "#pega os IDs, cria listas vazias para guardar nome e URL das capas, consulta na API, chama a função para visualizar as capas\n",
        "playlist_id = recomendadas.select('id').collect()\n",
        "\n",
        "name = []\n",
        "url = []\n",
        "\n",
        "for i in playlist_id:\n",
        "  track = sp.track(i[0])\n",
        "  url.append(track['album']['images'][1]['url'])\n",
        "  name.append(track['name'])\n",
        "\n",
        "visualize_songs(name,url)"
      ],
      "metadata": {
        "id": "0kv0fg9jiDVP"
      },
      "execution_count": null,
      "outputs": []
    },
    {
      "cell_type": "code",
      "source": [
        "def recomendador(nome_musica):\n",
        "  #calcula músicas recomendadas\n",
        "  cluster = projection_kmeans.filter(projection_kmeans.artists_song == nome_musica).select('cluster_pca').collect()[0][0]\n",
        "  musicas_recomendadas = projection_kmeans.filter(projection_kmeans.cluster_pca == cluster).select('artists_song', 'id', 'pca_features')\n",
        "  componentes_musica = musicas_recomendadas.filter(musicas_recomendadas.artists_song == nome_musica).select('pca_features').collect()[0][0]\n",
        "\n",
        "  #calcula a distância euclidiana para ver as músicas mais próximas\n",
        "  def calcula_distance(value):\n",
        "    return euclidean(componentes_musica, value)\n",
        "\n",
        "\n",
        "  udf_calcula_distance = f.udf(calcula_distance, FloatType())\n",
        "\n",
        "  musicas_recomendadas_dist = musicas_recomendadas.withColumn('Dist', udf_calcula_distance('pca_features'))\n",
        "\n",
        "  recomendadas = sessao_spark.createDataFrame(musicas_recomendadas_dist.sort('Dist').take(10)).select(['artists_song', 'id', 'Dist'])\n",
        "\n",
        "\n",
        "  #pegar informações da api\n",
        "  playlist_id = recomendadas.select('id').collect()\n",
        "\n",
        "  name = []\n",
        "  url = []\n",
        "\n",
        "  for i in playlist_id:\n",
        "    track = sp.track(i[0])\n",
        "    url.append(track['album']['images'][1]['url'])\n",
        "    name.append(track['name'])\n",
        "\n",
        "\n",
        "  #plotando capas\n",
        "  plt.figure(figsize=(15, 10))\n",
        "  columns = 5\n",
        "  for i, u in enumerate(url):\n",
        "      ax = plt.subplot(len(url) // columns + 1, columns, i + 1)\n",
        "      image = io.imread(u)\n",
        "      ax.imshow(image)\n",
        "\n",
        "      ax.axis('off')\n",
        "      ax.set_xticks([])\n",
        "      ax.set_yticks([])\n",
        "      ax.set_frame_on(False)\n",
        "\n",
        "      ax.text(\n",
        "          0.5, -0.05, name[i],\n",
        "          fontsize=9, ha='center', va='top', wrap=True,\n",
        "          transform=ax.transAxes\n",
        "      )\n",
        "\n",
        "  plt.tight_layout(pad=0)\n",
        "  plt.subplots_adjust(wspace=0.02, hspace=0.02)\n",
        "  plt.show()\n",
        "\n"
      ],
      "metadata": {
        "id": "eRbS4GZgi-Ry"
      },
      "execution_count": null,
      "outputs": []
    },
    {
      "cell_type": "code",
      "source": [
        "recomendador('Avenged Sevenfold - Nightmare')"
      ],
      "metadata": {
        "id": "VIp0sactmGK-"
      },
      "execution_count": null,
      "outputs": []
    },
    {
      "cell_type": "code",
      "source": [],
      "metadata": {
        "id": "Y_hG0ToEvqNJ"
      },
      "execution_count": null,
      "outputs": []
    }
  ]
}
